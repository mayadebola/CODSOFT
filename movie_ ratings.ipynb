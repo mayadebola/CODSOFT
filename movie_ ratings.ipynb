{
 "cells": [
  {
   "cell_type": "code",
   "execution_count": null,
   "id": "3a42beab",
   "metadata": {},
   "outputs": [],
   "source": [
    "import pandas as pd\n",
    "import numpy as np\n",
    "import seaborn as sns\n",
    "import matplotlib.pyplot as plt\n",
    "import warnings\n",
    "warnings.filterwarnings('ignore')\n"
   ]
  },
  {
   "cell_type": "code",
   "execution_count": null,
   "id": "a3f945b9",
   "metadata": {},
   "outputs": [],
   "source": [
    "movie_pred = pd.read_csv(\"C:/Users/user/Downloads/movies daataset.csv\", encoding='latin1')"
   ]
  },
  {
   "cell_type": "code",
   "execution_count": null,
   "id": "01e1e373",
   "metadata": {
    "scrolled": true
   },
   "outputs": [],
   "source": [
    "movie_pred.head()"
   ]
  },
  {
   "cell_type": "code",
   "execution_count": null,
   "id": "a555f0bc",
   "metadata": {},
   "outputs": [],
   "source": [
    "movie_pred.describe()"
   ]
  },
  {
   "cell_type": "code",
   "execution_count": null,
   "id": "13650d23",
   "metadata": {},
   "outputs": [],
   "source": [
    "movie_pred.info"
   ]
  },
  {
   "cell_type": "code",
   "execution_count": null,
   "id": "61125f82",
   "metadata": {},
   "outputs": [],
   "source": [
    "movie_pred.dtypes"
   ]
  },
  {
   "cell_type": "code",
   "execution_count": null,
   "id": "7f31881b",
   "metadata": {},
   "outputs": [],
   "source": [
    "movie_pred.columns"
   ]
  },
  {
   "cell_type": "code",
   "execution_count": null,
   "id": "5ff8cbba",
   "metadata": {},
   "outputs": [],
   "source": [
    "def missing_values_percent(dataframe):\n",
    "    missing_values = dataframe.isna().sum()\n",
    "    percentage_missing = (missing_values / len(dataframe) * 100).round(2)\n",
    "\n",
    "    result_movie = pd.DataFrame({'Missing Values': missing_values, 'Percentage': percentage_missing})\n",
    "    result_movie['Percentage'] = result_movie['Percentage'].astype(str) + '%'\n",
    "\n",
    "    return result_movie\n",
    "\n",
    "\n",
    "result = missing_values_percent(movie_pred)\n",
    "result"
   ]
  },
  {
   "cell_type": "code",
   "execution_count": null,
   "id": "8d3d8319",
   "metadata": {},
   "outputs": [],
   "source": [
    "movie_pred.drop(['Actor 2' , 'Actor 3'], axis=1, inplace=True)"
   ]
  },
  {
   "cell_type": "code",
   "execution_count": null,
   "id": "53403b72",
   "metadata": {},
   "outputs": [],
   "source": [
    "movie_pred.dropna(subset=['Duration'], inplace = True)\n",
    "missing_values_percent(movie_pred )\n",
    "movie_pred = movie_pred[movie_pred.isnull().sum(axis=1).sort_values(ascending=False) <=3]\n",
    "missing_values_percent(movie_pred)"
   ]
  },
  {
   "cell_type": "code",
   "execution_count": null,
   "id": "f9692bca",
   "metadata": {},
   "outputs": [],
   "source": [
    "str(movie_pred)"
   ]
  },
  {
   "cell_type": "code",
   "execution_count": null,
   "id": "35427c0c",
   "metadata": {},
   "outputs": [],
   "source": [
    "movie_pred.head"
   ]
  },
  {
   "cell_type": "code",
   "execution_count": null,
   "id": "459c15ae",
   "metadata": {},
   "outputs": [],
   "source": [
    "movie_pred.dropna(subset=['Rating', 'Votes'], inplace=True)\n",
    "director_description = movie_pred['Director'].describe()\n",
    "\n",
    "director_counts = movie_pred['Director'].value_counts().sort_values(ascending=False)\n",
    "movie_pred['Director'].fillna('Gulzar', inplace=True)\n",
    "\n",
    "genre_counts = movie_pred['Genre'].value_counts().sort_values(ascending=False)\n",
    "movie_pred['Genre'].fillna('comedy', inplace=True)\n",
    "\n",
    "actor1_description = movie_pred['Actor 1'].describe()\n",
    "movie_pred['Actor 1'].fillna('Sanjeev Kumar', inplace=True)\n",
    "\n",
    "missing_values_movie_pred = pd.DataFrame({\n",
    "    'Missing Values': movie_pred.isnull().sum(),\n",
    "    'Percentage': (movie_pred.isnull().sum() / len(movie_pred) * 100).round(2)\n",
    "})\n",
    "movie_pred.tail()\n"
   ]
  },
  {
   "cell_type": "code",
   "execution_count": null,
   "id": "8b3e0877",
   "metadata": {},
   "outputs": [],
   "source": [
    "movie_pred['Year'] = movie_pred['Year'].astype(str)\n",
    "movie_pred['Duration'] = movie_pred['Duration'].astype(str)\n"
   ]
  },
  {
   "cell_type": "code",
   "execution_count": null,
   "id": "c6ae9f7e",
   "metadata": {},
   "outputs": [],
   "source": [
    "movie_pred['Year'] = movie_pred['Year'].str.replace(r'[()]', '', regex=True)\n",
    "movie_pred['Duration'] = movie_pred['Duration'].str.replace(r' min', '', regex=True)\n",
    "movie_pred.info()\n"
   ]
  },
  {
   "cell_type": "code",
   "execution_count": null,
   "id": "7ce4db7a",
   "metadata": {},
   "outputs": [],
   "source": [
    "# Remove commas from the 'Votes' column\n",
    "movie_pred['Votes'] = movie_pred['Votes'].str.replace(',', '')\n",
    "\n",
    "# Convert the 'Votes' column to integers\n",
    "movie_pred['Votes'] = movie_pred['Votes'].astype(int)\n"
   ]
  },
  {
   "cell_type": "code",
   "execution_count": null,
   "id": "66cab0fd",
   "metadata": {},
   "outputs": [],
   "source": []
  },
  {
   "cell_type": "code",
   "execution_count": null,
   "id": "d5689ffb",
   "metadata": {},
   "outputs": [],
   "source": [
    "import matplotlib.pyplot as plt\n",
    "\n",
    "plt.figure(figsize=(25, 15))\n",
    "\n",
    "year_counts = movie_pred['Year'].value_counts().sort_index()\n",
    "years = year_counts.index\n",
    "\n",
    "plt.bar(years, year_counts, color='blue', alpha=0.7)\n",
    "plt.title('Number of Movies Released Each Year')\n",
    "plt.xlabel('Year')\n",
    "plt.ylabel('Number of Movies')\n",
    "plt.xticks(rotation=45)\n",
    "plt.grid(axis='y')\n",
    "plt.show()"
   ]
  },
  {
   "cell_type": "code",
   "execution_count": null,
   "id": "35974f54",
   "metadata": {},
   "outputs": [],
   "source": [
    "label = movie_pred[\"Genre\"].value_counts().index\n",
    "sizes = movie_pred[\"Genre\"].value_counts()\n",
    "plt.figure(figsize = (5,5))\n",
    "plt.pie(sizes, labels= label, startangle = 0 , shadow = False , autopct='%1.1f%%')\n",
    "plt.show()"
   ]
  },
  {
   "cell_type": "markdown",
   "id": "50a61112",
   "metadata": {},
   "source": [
    "######## predicting models"
   ]
  },
  {
   "cell_type": "code",
   "execution_count": null,
   "id": "b592b3ad",
   "metadata": {},
   "outputs": [],
   "source": [
    "genre_mean_rating = movie_pred.groupby('Genre')['Rating'].transform('mean')\n",
    "movie_pred['Genre_mean_rating'] = genre_mean_rating"
   ]
  },
  {
   "cell_type": "code",
   "execution_count": null,
   "id": "0ece8a8e",
   "metadata": {},
   "outputs": [],
   "source": [
    "from sklearn.model_selection import train_test_split"
   ]
  },
  {
   "cell_type": "code",
   "execution_count": null,
   "id": "2763f3c4",
   "metadata": {},
   "outputs": [],
   "source": [
    "movie_pred['Director_encoded'] = movie_pred.groupby('Director')['Rating'].transform('mean')\n",
    "movie_pred['Actor_encoded'] = movie_pred.groupby('Actor 1')['Rating'].transform('mean')\n",
    "\n",
    "# Define the features and target variable\n",
    "features = ['Year', 'Votes', 'Duration', 'Genre_mean_rating', 'Director_encoded', 'Actor_encoded']\n",
    "X = movie_pred[features]\n",
    "y = movie_pred['Rating']\n",
    "\n",
    "# Split the data into training and test sets\n",
    "X_train, X_test, y_train, y_test = train_test_split(X, y, test_size=0.8, random_state=42)\n",
    "\n",
    "\n"
   ]
  },
  {
   "cell_type": "code",
   "execution_count": null,
   "id": "def4f8a7",
   "metadata": {},
   "outputs": [],
   "source": [
    "from sklearn.linear_model import LinearRegression\n",
    "from sklearn.metrics import mean_absolute_error, mean_squared_error, r2_score"
   ]
  },
  {
   "cell_type": "code",
   "execution_count": null,
   "id": "ac53f5c5",
   "metadata": {},
   "outputs": [],
   "source": [
    "# Initialize and train a Linear Regression model\n",
    "lr = LinearRegression()\n",
    "lr.fit(X_train, y_train)\n",
    "\n",
    "# Make predictions on the test set\n",
    "y_pred = lr.predict(X_test)\n",
    "\n",
    "# Evaluate the model\n",
    "mse = mean_squared_error(y_test, y_pred)\n",
    "mae = mean_absolute_error(y_test, y_pred)\n",
    "r2 = r2_score(y_test, y_pred)\n"
   ]
  },
  {
   "cell_type": "code",
   "execution_count": null,
   "id": "8a9a0918",
   "metadata": {},
   "outputs": [],
   "source": [
    "# Print the evaluation metrics\n",
    "print(f\"Mean Squared Error: {mse:.4f}\")\n",
    "print(f\"Mean Absolute Error: {mae:.4f}\")\n",
    "print(f\"R2 Score: {r2:.4f}\")"
   ]
  }
 ],
 "metadata": {
  "kernelspec": {
   "display_name": "Python 3 (ipykernel)",
   "language": "python",
   "name": "python3"
  },
  "language_info": {
   "codemirror_mode": {
    "name": "ipython",
    "version": 3
   },
   "file_extension": ".py",
   "mimetype": "text/x-python",
   "name": "python",
   "nbconvert_exporter": "python",
   "pygments_lexer": "ipython3",
   "version": "3.9.7"
  }
 },
 "nbformat": 4,
 "nbformat_minor": 5
}
